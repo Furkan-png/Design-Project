{
 "cells": [
  {
   "cell_type": "code",
   "execution_count": 2,
   "id": "c2ecef4f",
   "metadata": {},
   "outputs": [],
   "source": [
    "import pandas as pd \n",
    "import spotipy \n",
    "from spotipy.oauth2 import SpotifyClientCredentials "
   ]
  },
  {
   "cell_type": "code",
   "execution_count": 3,
   "id": "30974fa4",
   "metadata": {},
   "outputs": [],
   "source": [
    "sp = spotipy.Spotify() \n",
    "\n",
    "cid =\"CLIENT ID\" \n",
    "\n",
    "secret = \"CLIENT SECRET\"\n",
    "\n",
    "client_credentials_manager = SpotifyClientCredentials(client_id=cid, client_secret=secret) \n",
    "\n",
    "sp = spotipy.Spotify(client_credentials_manager=client_credentials_manager) \n",
    "\n",
    "sp.trace=False "
   ]
  },
  {
   "cell_type": "code",
   "execution_count": null,
   "id": "8797efb8",
   "metadata": {},
   "outputs": [],
   "source": [
    "playlist = sp.user_playlist(\"geomcintire\", \"PLAYLIST ID\") \n",
    "playlist"
   ]
  },
  {
   "cell_type": "code",
   "execution_count": null,
   "id": "2b71a718",
   "metadata": {},
   "outputs": [],
   "source": [
    "songs = playlist[\"tracks\"][\"items\"] \n",
    "songs"
   ]
  },
  {
   "cell_type": "code",
   "execution_count": null,
   "id": "f9d900ee",
   "metadata": {},
   "outputs": [],
   "source": [
    "ids = [] \n",
    "for i in range(len(songs)): \n",
    "    ids.append(songs[i][\"track\"][\"id\"]"
   ]
  },
  {
   "cell_type": "code",
   "execution_count": null,
   "id": "37e96da3",
   "metadata": {},
   "outputs": [],
   "source": [
    "features = sp.audio_features(ids) "
   ]
  },
  {
   "cell_type": "code",
   "execution_count": null,
   "id": "ed0db0b7",
   "metadata": {},
   "outputs": [],
   "source": []
  }
 ],
 "metadata": {
  "kernelspec": {
   "display_name": "Python 3 (ipykernel)",
   "language": "python",
   "name": "python3"
  },
  "language_info": {
   "codemirror_mode": {
    "name": "ipython",
    "version": 3
   },
   "file_extension": ".py",
   "mimetype": "text/x-python",
   "name": "python",
   "nbconvert_exporter": "python",
   "pygments_lexer": "ipython3",
   "version": "3.9.12"
  }
 },
 "nbformat": 4,
 "nbformat_minor": 5
}
